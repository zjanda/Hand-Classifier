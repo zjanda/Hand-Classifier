{
 "cells": [
  {
   "cell_type": "code",
   "execution_count": 13,
   "metadata": {
    "collapsed": true
   },
   "outputs": [],
   "source": [
    "from helpers import *\n",
    "import xgboost as xgb\n",
    "from icecream import ic"
   ]
  },
  {
   "cell_type": "code",
   "execution_count": 14,
   "outputs": [],
   "source": [
    "data = np.genfromtxt('data.txt')\n",
    "data = data.reshape((data.shape[0] // 21, 21, data.shape[1]))"
   ],
   "metadata": {
    "collapsed": false,
    "pycharm": {
     "name": "#%%\n"
    }
   }
  },
  {
   "cell_type": "code",
   "execution_count": 15,
   "outputs": [],
   "source": [
    "for i, hand in enumerate(data):\n",
    "    data[i] = normalize_hand(hand)"
   ],
   "metadata": {
    "collapsed": false,
    "pycharm": {
     "name": "#%%\n"
    }
   }
  },
  {
   "cell_type": "code",
   "execution_count": 16,
   "outputs": [],
   "source": [
    "hand_sample = data[0, :, :]\n",
    "np.random.shuffle(data)\n",
    "data = data.T\n",
    "X, y = data[:-1].T, data[-1].T\n",
    "split = int(.80 * X.shape[0])\n",
    "X_train, X_test = X[:split, :], X[split:, :]\n",
    "y_train, y_test = y[:split], y[split:]"
   ],
   "metadata": {
    "collapsed": false,
    "pycharm": {
     "name": "#%%\n"
    }
   }
  },
  {
   "cell_type": "code",
   "execution_count": 17,
   "outputs": [
    {
     "name": "stderr",
     "output_type": "stream",
     "text": [
      "ic| y[y == fingers_count].shape[0]: 37653\n",
      "ic| y[y == fingers_count].shape[0]: 39774\n",
      "ic| y[y == fingers_count].shape[0]: 39774\n",
      "ic| y[y == fingers_count].shape[0]: 39732\n",
      "ic| y[y == fingers_count].shape[0]: 39606\n",
      "ic| y[y == fingers_count].shape[0]: 39753\n",
      "ic| y_shapes: [1793, 1894, 1894, 1892, 1886, 1893]\n",
      "ic| bal_indices.shape: (10758,)\n",
      "ic| X_new.shape: (10758, 21, 3)\n",
      "ic| y_new.shape: (10758, 21)\n"
     ]
    },
    {
     "data": {
      "text/plain": "(10758, 21)"
     },
     "execution_count": 17,
     "metadata": {},
     "output_type": "execute_result"
    }
   ],
   "source": [
    "for fingers_count in range(6):\n",
    "    ic(y[y == fingers_count].shape[0])\n",
    "\n",
    "# Balance data\n",
    "y_shapes = []\n",
    "temp_y = y[:, 0]\n",
    "unbal_indices = []\n",
    "for fingers_count in range(np.unique(temp_y).shape[0]):\n",
    "    unbal_indices.append(np.where(temp_y == fingers_count)[0])\n",
    "    shape_ = unbal_indices[fingers_count].shape[0]\n",
    "    y_shapes.append(shape_)\n",
    "ic(y_shapes)\n",
    "bal_indices = []\n",
    "min_shape = min(y_shapes)\n",
    "for fingers_count in range(len(unbal_indices)):\n",
    "    bal_indices.append(unbal_indices[fingers_count][0:min_shape])\n",
    "bal_indices = np.array(bal_indices).flatten()\n",
    "ic(bal_indices.shape)\n",
    "y_new = y[bal_indices]\n",
    "X_new = X[bal_indices]\n",
    "ic(X_new.shape)\n",
    "ic(y_new.shape)"
   ],
   "metadata": {
    "collapsed": false,
    "pycharm": {
     "name": "#%%\n"
    }
   }
  },
  {
   "cell_type": "code",
   "execution_count": 18,
   "outputs": [
    {
     "name": "stderr",
     "output_type": "stream",
     "text": [
      "ic| y[y == fingers_count].shape[0]: 37653\n",
      "ic| y[y == fingers_count].shape[0]: 37653\n",
      "ic| y[y == fingers_count].shape[0]: 37653\n",
      "ic| y[y == fingers_count].shape[0]: 37653\n",
      "ic| y[y == fingers_count].shape[0]: 37653\n",
      "ic| y[y == fingers_count].shape[0]: 37653\n"
     ]
    }
   ],
   "source": [
    "X = X_new\n",
    "y = y_new\n",
    "\n",
    "for fingers_count in range(6):\n",
    "    ic(y[y == fingers_count].shape[0])"
   ],
   "metadata": {
    "collapsed": false,
    "pycharm": {
     "name": "#%%\n"
    }
   }
  },
  {
   "cell_type": "code",
   "execution_count": 19,
   "outputs": [],
   "source": [
    "model = xgb.XGBClassifier()"
   ],
   "metadata": {
    "collapsed": false,
    "pycharm": {
     "name": "#%%\n"
    }
   }
  },
  {
   "cell_type": "code",
   "execution_count": 20,
   "outputs": [],
   "source": [
    "# Flatten for preprocessing, training and testing\n",
    "X_train = X_train.reshape(X_train.shape[0] * X_train.shape[1], X_train.shape[-1])\n",
    "y_train = np.ndarray.flatten(y_train)\n",
    "\n",
    "X_test = X_test.reshape(X_test.shape[0] * X_test.shape[1], X_test.shape[-1])\n",
    "y_test = np.ndarray.flatten(y_test)"
   ],
   "metadata": {
    "collapsed": false,
    "pycharm": {
     "name": "#%%\n"
    }
   }
  },
  {
   "cell_type": "code",
   "execution_count": 21,
   "outputs": [
    {
     "name": "stderr",
     "output_type": "stream",
     "text": [
      "ic| X_train.shape: (189021, 3)\n",
      "ic| X_test.shape: (47271, 3)\n"
     ]
    },
    {
     "data": {
      "text/plain": "(47271, 3)"
     },
     "execution_count": 21,
     "metadata": {},
     "output_type": "execute_result"
    }
   ],
   "source": [
    "ic(X_train.shape)\n",
    "ic(X_test.shape)"
   ],
   "metadata": {
    "collapsed": false,
    "pycharm": {
     "name": "#%%\n"
    }
   }
  },
  {
   "cell_type": "code",
   "execution_count": 22,
   "outputs": [
    {
     "name": "stdout",
     "output_type": "stream",
     "text": [
      "[17:04:42] WARNING: C:/Users/Administrator/workspace/xgboost-win64_release_1.5.1/src/learner.cc:1115: Starting in XGBoost 1.3.0, the default evaluation metric used with the objective 'multi:softprob' was changed from 'merror' to 'mlogloss'. Explicitly set eval_metric if you'd like to restore the old behavior.\n"
     ]
    },
    {
     "data": {
      "text/plain": "XGBClassifier(base_score=0.5, booster='gbtree', colsample_bylevel=1,\n              colsample_bynode=1, colsample_bytree=1, enable_categorical=False,\n              gamma=0, gpu_id=-1, importance_type=None,\n              interaction_constraints='', learning_rate=0.300000012,\n              max_delta_step=0, max_depth=6, min_child_weight=1, missing=nan,\n              monotone_constraints='()', n_estimators=100, n_jobs=4,\n              num_parallel_tree=1, objective='multi:softprob', predictor='auto',\n              random_state=0, reg_alpha=0, reg_lambda=1, scale_pos_weight=None,\n              subsample=1, tree_method='exact', validate_parameters=1,\n              verbosity=None)"
     },
     "execution_count": 22,
     "metadata": {},
     "output_type": "execute_result"
    }
   ],
   "source": [
    "model.fit(X_train, y_train)"
   ],
   "metadata": {
    "collapsed": false,
    "pycharm": {
     "name": "#%%\n"
    }
   }
  },
  {
   "cell_type": "code",
   "execution_count": 23,
   "outputs": [
    {
     "name": "stdout",
     "output_type": "stream",
     "text": [
      "Accuracy:  0.8398806879482135\n"
     ]
    }
   ],
   "source": [
    "prediction = model.predict(X_test)\n",
    "accuracy = np.average(y_test == prediction)\n",
    "print('Accuracy: ', accuracy)"
   ],
   "metadata": {
    "collapsed": false,
    "pycharm": {
     "name": "#%%\n"
    }
   }
  },
  {
   "cell_type": "code",
   "execution_count": 24,
   "outputs": [],
   "source": [
    "save_model(model, 'finalized_model.sav')"
   ],
   "metadata": {
    "collapsed": false,
    "pycharm": {
     "name": "#%%\n"
    }
   }
  },
  {
   "cell_type": "code",
   "execution_count": 24,
   "outputs": [],
   "source": [],
   "metadata": {
    "collapsed": false,
    "pycharm": {
     "name": "#%%\n"
    }
   }
  }
 ],
 "metadata": {
  "kernelspec": {
   "display_name": "Python 3",
   "language": "python",
   "name": "python3"
  },
  "language_info": {
   "codemirror_mode": {
    "name": "ipython",
    "version": 2
   },
   "file_extension": ".py",
   "mimetype": "text/x-python",
   "name": "python",
   "nbconvert_exporter": "python",
   "pygments_lexer": "ipython2",
   "version": "2.7.6"
  }
 },
 "nbformat": 4,
 "nbformat_minor": 0
}